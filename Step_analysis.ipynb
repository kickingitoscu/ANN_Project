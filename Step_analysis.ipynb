{
 "cells": [
  {
   "cell_type": "code",
   "execution_count": null,
   "metadata": {},
   "outputs": [],
   "source": [
    "import numpy as np\n",
    "import torch\n",
    "from torch import nn\n",
    "from torch.nn import functional as F\n",
    "import pandas as pd\n",
    "import os"
   ]
  },
  {
   "cell_type": "code",
   "execution_count": 58,
   "metadata": {},
   "outputs": [
    {
     "name": "stdout",
     "output_type": "stream",
     "text": [
      "/Users/rodolfocacacho/Documents/Documents/MAI/1.Semester/Artificial Neural Networks and Cognitive Models/Kaggle competition dataset/ANN_Project/data/\n",
      "['person_8', 'person_7', 'person_12', 'person_5', 'person_2', 'person_3', 'person_4', 'person_11', 'person_10']\n",
      "['/Users/rodolfocacacho/Documents/Documents/MAI/1.Semester/Artificial Neural Networks and Cognitive Models/Kaggle competition dataset/ANN_Project/data/person_8/ClippedawindaRecording_20230217130617.csv']\n",
      "['/Users/rodolfocacacho/Documents/Documents/MAI/1.Semester/Artificial Neural Networks and Cognitive Models/Kaggle competition dataset/ANN_Project/data/person_8/awindaRecording_20230217130617.csv.stepMixed']\n",
      "['/Users/rodolfocacacho/Documents/Documents/MAI/1.Semester/Artificial Neural Networks and Cognitive Models/Kaggle competition dataset/ANN_Project/data/person_7/ClippedawindaRecording_20230206175311.csv', '/Users/rodolfocacacho/Documents/Documents/MAI/1.Semester/Artificial Neural Networks and Cognitive Models/Kaggle competition dataset/ANN_Project/data/person_7/ClippedawindaRecording_20230124145256.csv', '/Users/rodolfocacacho/Documents/Documents/MAI/1.Semester/Artificial Neural Networks and Cognitive Models/Kaggle competition dataset/ANN_Project/data/person_7/ClippedawindaRecording_20230124150358.csv', '/Users/rodolfocacacho/Documents/Documents/MAI/1.Semester/Artificial Neural Networks and Cognitive Models/Kaggle competition dataset/ANN_Project/data/person_7/ClippedawindaRecording_20230124145827.csv', '/Users/rodolfocacacho/Documents/Documents/MAI/1.Semester/Artificial Neural Networks and Cognitive Models/Kaggle competition dataset/ANN_Project/data/person_7/ClippedawindaRecording_20230206162842.csv']\n",
      "['/Users/rodolfocacacho/Documents/Documents/MAI/1.Semester/Artificial Neural Networks and Cognitive Models/Kaggle competition dataset/ANN_Project/data/person_7/awindaRecording_20230124150358.csv.stepMixed', '/Users/rodolfocacacho/Documents/Documents/MAI/1.Semester/Artificial Neural Networks and Cognitive Models/Kaggle competition dataset/ANN_Project/data/person_7/awindaRecording_20230206175311.csv.stepMixed', '/Users/rodolfocacacho/Documents/Documents/MAI/1.Semester/Artificial Neural Networks and Cognitive Models/Kaggle competition dataset/ANN_Project/data/person_7/awindaRecording_20230206162842.csv.stepMixed', '/Users/rodolfocacacho/Documents/Documents/MAI/1.Semester/Artificial Neural Networks and Cognitive Models/Kaggle competition dataset/ANN_Project/data/person_7/awindaRecording_20230124145256.csv.stepMixed', '/Users/rodolfocacacho/Documents/Documents/MAI/1.Semester/Artificial Neural Networks and Cognitive Models/Kaggle competition dataset/ANN_Project/data/person_7/awindaRecording_20230124145827.csv.stepMixed']\n",
      "['/Users/rodolfocacacho/Documents/Documents/MAI/1.Semester/Artificial Neural Networks and Cognitive Models/Kaggle competition dataset/ANN_Project/data/person_12/ClippedawindaRecording_20230403155903.csv', '/Users/rodolfocacacho/Documents/Documents/MAI/1.Semester/Artificial Neural Networks and Cognitive Models/Kaggle competition dataset/ANN_Project/data/person_12/ClippedawindaRecording_20230403160632.csv']\n",
      "['/Users/rodolfocacacho/Documents/Documents/MAI/1.Semester/Artificial Neural Networks and Cognitive Models/Kaggle competition dataset/ANN_Project/data/person_12/awindaRecording_20230403160632.csv.stepMixed', '/Users/rodolfocacacho/Documents/Documents/MAI/1.Semester/Artificial Neural Networks and Cognitive Models/Kaggle competition dataset/ANN_Project/data/person_12/awindaRecording_20230403155903.csv.stepMixed']\n",
      "['/Users/rodolfocacacho/Documents/Documents/MAI/1.Semester/Artificial Neural Networks and Cognitive Models/Kaggle competition dataset/ANN_Project/data/person_5/ClippedawindaRecording_20230217123216.csv']\n",
      "['/Users/rodolfocacacho/Documents/Documents/MAI/1.Semester/Artificial Neural Networks and Cognitive Models/Kaggle competition dataset/ANN_Project/data/person_5/awindaRecording_20230217123216.csv.stepMixed']\n",
      "['/Users/rodolfocacacho/Documents/Documents/MAI/1.Semester/Artificial Neural Networks and Cognitive Models/Kaggle competition dataset/ANN_Project/data/person_2/ClippedawindaRecording_20230217132921.csv']\n",
      "['/Users/rodolfocacacho/Documents/Documents/MAI/1.Semester/Artificial Neural Networks and Cognitive Models/Kaggle competition dataset/ANN_Project/data/person_2/awindaRecording_20230217132921.csv.stepMixed']\n",
      "['/Users/rodolfocacacho/Documents/Documents/MAI/1.Semester/Artificial Neural Networks and Cognitive Models/Kaggle competition dataset/ANN_Project/data/person_3/ClippedawindaRecording_20230217125431.csv']\n",
      "['/Users/rodolfocacacho/Documents/Documents/MAI/1.Semester/Artificial Neural Networks and Cognitive Models/Kaggle competition dataset/ANN_Project/data/person_3/awindaRecording_20230217125431.csv.stepMixed']\n",
      "['/Users/rodolfocacacho/Documents/Documents/MAI/1.Semester/Artificial Neural Networks and Cognitive Models/Kaggle competition dataset/ANN_Project/data/person_4/ClippedawindaRecording_20230124152114.csv', '/Users/rodolfocacacho/Documents/Documents/MAI/1.Semester/Artificial Neural Networks and Cognitive Models/Kaggle competition dataset/ANN_Project/data/person_4/ClippedawindaRecording_20230206161506.csv', '/Users/rodolfocacacho/Documents/Documents/MAI/1.Semester/Artificial Neural Networks and Cognitive Models/Kaggle competition dataset/ANN_Project/data/person_4/ClippedawindaRecording_20230206162219.csv', '/Users/rodolfocacacho/Documents/Documents/MAI/1.Semester/Artificial Neural Networks and Cognitive Models/Kaggle competition dataset/ANN_Project/data/person_4/ClippedawindaRecording_20230206154634.csv', '/Users/rodolfocacacho/Documents/Documents/MAI/1.Semester/Artificial Neural Networks and Cognitive Models/Kaggle competition dataset/ANN_Project/data/person_4/ClippedawindaRecording_20230124153538.csv', '/Users/rodolfocacacho/Documents/Documents/MAI/1.Semester/Artificial Neural Networks and Cognitive Models/Kaggle competition dataset/ANN_Project/data/person_4/ClippedawindaRecording_20230124151117.csv']\n",
      "['/Users/rodolfocacacho/Documents/Documents/MAI/1.Semester/Artificial Neural Networks and Cognitive Models/Kaggle competition dataset/ANN_Project/data/person_4/awindaRecording_20230124152114.csv.stepMixed', '/Users/rodolfocacacho/Documents/Documents/MAI/1.Semester/Artificial Neural Networks and Cognitive Models/Kaggle competition dataset/ANN_Project/data/person_4/awindaRecording_20230124153538.csv.stepMixed', '/Users/rodolfocacacho/Documents/Documents/MAI/1.Semester/Artificial Neural Networks and Cognitive Models/Kaggle competition dataset/ANN_Project/data/person_4/awindaRecording_20230206162219.csv.stepMixed', '/Users/rodolfocacacho/Documents/Documents/MAI/1.Semester/Artificial Neural Networks and Cognitive Models/Kaggle competition dataset/ANN_Project/data/person_4/awindaRecording_20230206154634.csv.stepMixed', '/Users/rodolfocacacho/Documents/Documents/MAI/1.Semester/Artificial Neural Networks and Cognitive Models/Kaggle competition dataset/ANN_Project/data/person_4/awindaRecording_20230124151117.csv.stepMixed', '/Users/rodolfocacacho/Documents/Documents/MAI/1.Semester/Artificial Neural Networks and Cognitive Models/Kaggle competition dataset/ANN_Project/data/person_4/awindaRecording_20230206161506.csv.stepMixed']\n",
      "['/Users/rodolfocacacho/Documents/Documents/MAI/1.Semester/Artificial Neural Networks and Cognitive Models/Kaggle competition dataset/ANN_Project/data/person_11/ClippedawindaRecording_20230403144010.csv', '/Users/rodolfocacacho/Documents/Documents/MAI/1.Semester/Artificial Neural Networks and Cognitive Models/Kaggle competition dataset/ANN_Project/data/person_11/ClippedawindaRecording_20230403143345.csv', '/Users/rodolfocacacho/Documents/Documents/MAI/1.Semester/Artificial Neural Networks and Cognitive Models/Kaggle competition dataset/ANN_Project/data/person_11/ClippedawindaRecording_20230403144515.csv', '/Users/rodolfocacacho/Documents/Documents/MAI/1.Semester/Artificial Neural Networks and Cognitive Models/Kaggle competition dataset/ANN_Project/data/person_11/ClippedawindaRecording_20230403142813.csv', '/Users/rodolfocacacho/Documents/Documents/MAI/1.Semester/Artificial Neural Networks and Cognitive Models/Kaggle competition dataset/ANN_Project/data/person_11/ClippedawindaRecording_20230403152221.csv', '/Users/rodolfocacacho/Documents/Documents/MAI/1.Semester/Artificial Neural Networks and Cognitive Models/Kaggle competition dataset/ANN_Project/data/person_11/ClippedawindaRecording_20230403153107.csv', '/Users/rodolfocacacho/Documents/Documents/MAI/1.Semester/Artificial Neural Networks and Cognitive Models/Kaggle competition dataset/ANN_Project/data/person_11/ClippedawindaRecording_20230403151559.csv']\n",
      "['/Users/rodolfocacacho/Documents/Documents/MAI/1.Semester/Artificial Neural Networks and Cognitive Models/Kaggle competition dataset/ANN_Project/data/person_11/awindaRecording_20230403142813.csv.stepMixed', '/Users/rodolfocacacho/Documents/Documents/MAI/1.Semester/Artificial Neural Networks and Cognitive Models/Kaggle competition dataset/ANN_Project/data/person_11/awindaRecording_20230403151559.csv.stepMixed', '/Users/rodolfocacacho/Documents/Documents/MAI/1.Semester/Artificial Neural Networks and Cognitive Models/Kaggle competition dataset/ANN_Project/data/person_11/awindaRecording_20230403153107.csv.stepMixed', '/Users/rodolfocacacho/Documents/Documents/MAI/1.Semester/Artificial Neural Networks and Cognitive Models/Kaggle competition dataset/ANN_Project/data/person_11/awindaRecording_20230403143345.csv.stepMixed', '/Users/rodolfocacacho/Documents/Documents/MAI/1.Semester/Artificial Neural Networks and Cognitive Models/Kaggle competition dataset/ANN_Project/data/person_11/awindaRecording_20230403152221.csv.stepMixed', '/Users/rodolfocacacho/Documents/Documents/MAI/1.Semester/Artificial Neural Networks and Cognitive Models/Kaggle competition dataset/ANN_Project/data/person_11/awindaRecording_20230403144515.csv.stepMixed', '/Users/rodolfocacacho/Documents/Documents/MAI/1.Semester/Artificial Neural Networks and Cognitive Models/Kaggle competition dataset/ANN_Project/data/person_11/awindaRecording_20230403144010.csv.stepMixed']\n",
      "['/Users/rodolfocacacho/Documents/Documents/MAI/1.Semester/Artificial Neural Networks and Cognitive Models/Kaggle competition dataset/ANN_Project/data/person_10/ClippedawindaRecording_20230403172013.csv', '/Users/rodolfocacacho/Documents/Documents/MAI/1.Semester/Artificial Neural Networks and Cognitive Models/Kaggle competition dataset/ANN_Project/data/person_10/ClippedawindaRecording_20230403172403.csv', '/Users/rodolfocacacho/Documents/Documents/MAI/1.Semester/Artificial Neural Networks and Cognitive Models/Kaggle competition dataset/ANN_Project/data/person_10/ClippedawindaRecording_20230403173917.csv', '/Users/rodolfocacacho/Documents/Documents/MAI/1.Semester/Artificial Neural Networks and Cognitive Models/Kaggle competition dataset/ANN_Project/data/person_10/ClippedawindaRecording_20230403173039.csv']\n",
      "['/Users/rodolfocacacho/Documents/Documents/MAI/1.Semester/Artificial Neural Networks and Cognitive Models/Kaggle competition dataset/ANN_Project/data/person_10/awindaRecording_20230403173039.csv.stepMixed', '/Users/rodolfocacacho/Documents/Documents/MAI/1.Semester/Artificial Neural Networks and Cognitive Models/Kaggle competition dataset/ANN_Project/data/person_10/awindaRecording_20230403173917.csv.stepMixed', '/Users/rodolfocacacho/Documents/Documents/MAI/1.Semester/Artificial Neural Networks and Cognitive Models/Kaggle competition dataset/ANN_Project/data/person_10/awindaRecording_20230403172013.csv.stepMixed', '/Users/rodolfocacacho/Documents/Documents/MAI/1.Semester/Artificial Neural Networks and Cognitive Models/Kaggle competition dataset/ANN_Project/data/person_10/awindaRecording_20230403172403.csv.stepMixed']\n"
     ]
    }
   ],
   "source": [
    "def get_subdirectories(folder_path):\n",
    "    subdirectories = []\n",
    "    for item in os.listdir(folder_path):\n",
    "        item_path = os.path.join(folder_path, item)\n",
    "        if os.path.isdir(item_path):\n",
    "            subdirectories.append(item)\n",
    "    return subdirectories\n",
    "\n",
    "def get_files_in_subdirectories(folder_path, file_extension):\n",
    "    files = []\n",
    "    for root, directories, filenames in os.walk(folder_path):\n",
    "        for filename in filenames:\n",
    "            if filename.endswith(file_extension):\n",
    "                files.append(os.path.join(root, filename))\n",
    "    return files\n",
    "\n",
    "folder_path = os.getcwd()+'/data/'\n",
    "print(folder_path)\n",
    "subdirectories = get_subdirectories(folder_path)\n",
    "print(subdirectories)\n",
    "\n",
    "file_extension = ['.csv','.csv.stepMixed']\n",
    "\n",
    "for i in subdirectories:\n",
    "    folder_i = folder_path+i\n",
    "    for j in file_extension:\n",
    "        files = get_files_in_subdirectories(folder_i,j)\n",
    "        print(files)\n",
    "\n",
    "\n"
   ]
  }
 ],
 "metadata": {
  "kernelspec": {
   "display_name": "python_env_ann",
   "language": "python",
   "name": "python3"
  },
  "language_info": {
   "codemirror_mode": {
    "name": "ipython",
    "version": 3
   },
   "file_extension": ".py",
   "mimetype": "text/x-python",
   "name": "python",
   "nbconvert_exporter": "python",
   "pygments_lexer": "ipython3",
   "version": "3.10.10"
  },
  "orig_nbformat": 4
 },
 "nbformat": 4,
 "nbformat_minor": 2
}
